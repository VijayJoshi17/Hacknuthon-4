{
 "cells": [
  {
   "cell_type": "markdown",
   "id": "6ad6b6bc",
   "metadata": {},
   "source": [
    "# Email Automation basic code "
   ]
  },
  {
   "cell_type": "markdown",
   "id": "c1d635fe",
   "metadata": {},
   "source": [
    "The email id and password used in this section is not correct due to security reasons :/"
   ]
  },
  {
   "cell_type": "code",
   "execution_count": null,
   "id": "b046d26f",
   "metadata": {},
   "outputs": [],
   "source": [
    "import smtplib\n",
    "\n",
    "# Set up the SMTP server\n",
    "smtp_server = 'smtp.gmail.com' # Change this to your email provider's SMTP server\n",
    "port = 587 # Change this to the appropriate port for your email provider\n",
    "sender_email = 'your_email@gmail.com' # Change this to your own email address\n",
    "password = 'your_password' # Change this to your own email password\n",
    "\n",
    "# Log in to the SMTP server\n",
    "server = smtplib.SMTP(smtp_server, port)\n",
    "server.starttls()\n",
    "server.login(sender_email, password)\n",
    "\n",
    "# Compose the email message\n",
    "recipient_email = 'recipient_email@gmail.com' # Change this to the recipient's email address\n",
    "subject = 'Test Email'\n",
    "body = 'This is a test email.'\n",
    "\n",
    "message = f'Subject: {subject}\\n\\n{body}'\n",
    "\n",
    "# Send the email\n",
    "server.sendmail(sender_email, recipient_email, message)\n",
    "\n",
    "# Log out of the SMTP server\n",
    "server.quit()\n"
   ]
  },
  {
   "cell_type": "markdown",
   "id": "0bd57a27",
   "metadata": {},
   "source": [
    "If you want to sent email with some files/attachments"
   ]
  },
  {
   "cell_type": "code",
   "execution_count": null,
   "id": "e80c6361",
   "metadata": {},
   "outputs": [],
   "source": [
    "import smtplib\n",
    "import os.path\n",
    "from email.mime.multipart import MIMEMultipart\n",
    "from email.mime.text import MIMEText\n",
    "from email.mime.image import MIMEImage\n",
    "from email.mime.application import MIMEApplication\n",
    "\n",
    "# Set up the SMTP server\n",
    "smtp_server = 'smtp.gmail.com' # Change this to your email provider's SMTP server\n",
    "port = 587 # Change this to the appropriate port for your email provider\n",
    "sender_email = 'your_email@gmail.com' # Change this to your own email address\n",
    "password = 'your_password' # Change this to your own email password\n",
    "\n",
    "# Log in to the SMTP server\n",
    "server = smtplib.SMTP(smtp_server, port)\n",
    "server.starttls()\n",
    "server.login(sender_email, password)\n",
    "\n",
    "# Compose the email message\n",
    "recipient_email = 'recipient_email@gmail.com' # Change this to the recipient's email address\n",
    "subject = 'Test Email with Attachment'\n",
    "body = 'This is a test email with a photo and a file attachment.'\n",
    "\n",
    "# Create a multi-part message object\n",
    "message = MIMEMultipart()\n",
    "message['From'] = sender_email\n",
    "message['To'] = recipient_email\n",
    "message['Subject'] = subject\n",
    "\n",
    "# Add the body text to the message\n",
    "message.attach(MIMEText(body))\n",
    "\n",
    "# Add the photo attachment to the message\n",
    "photo_file = 'photo.jpg' # Change this to the filename of your photo\n",
    "photo_path = os.path.abspath(photo_file)\n",
    "with open(photo_path, 'rb') as f:\n",
    "    photo_data = f.read()\n",
    "photo = MIMEImage(photo_data, name=os.path.basename(photo_path))\n",
    "message.attach(photo)\n",
    "\n",
    "# Add the file attachment to the message\n",
    "file_path = 'document.pdf' # Change this to the filename of your file\n",
    "with open(file_path, 'rb') as f:\n",
    "    file_data = f.read()\n",
    "file = MIMEApplication(file_data, name=os.path.basename(file_path))\n",
    "file['Content-Disposition'] = f'attachment; filename=\"{os.path.basename(file_path)}\"'\n",
    "message.attach(file)\n",
    "\n",
    "# Convert the message to a string and send the email\n",
    "text = message.as_string()\n",
    "server.sendmail(sender_email, recipient_email, text)\n",
    "\n",
    "# Log out of the SMTP server\n",
    "server.quit()\n"
   ]
  },
  {
   "cell_type": "markdown",
   "id": "bc847db8",
   "metadata": {},
   "source": []
  }
 ],
 "metadata": {
  "kernelspec": {
   "display_name": "Python 3 (ipykernel)",
   "language": "python",
   "name": "python3"
  },
  "language_info": {
   "codemirror_mode": {
    "name": "ipython",
    "version": 3
   },
   "file_extension": ".py",
   "mimetype": "text/x-python",
   "name": "python",
   "nbconvert_exporter": "python",
   "pygments_lexer": "ipython3",
   "version": "3.10.5"
  }
 },
 "nbformat": 4,
 "nbformat_minor": 5
}
